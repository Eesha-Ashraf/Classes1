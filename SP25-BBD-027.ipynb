{
 "cells": [
  {
   "cell_type": "markdown",
   "id": "cd9fe389-7adb-48ed-bfd3-84379a185621",
   "metadata": {},
   "source": [
    "#  Create a class Person with attributes name, age, and city."
   ]
  },
  {
   "cell_type": "code",
   "execution_count": 13,
   "id": "a4923188-b41d-4c60-b301-c91c5240010e",
   "metadata": {},
   "outputs": [
    {
     "name": "stdout",
     "output_type": "stream",
     "text": [
      "Eesha\n",
      "19\n",
      "Lahore\n",
      "My name is Eesha\n"
     ]
    }
   ],
   "source": [
    "class person:\n",
    "    def __init__(self,name,age,city):\n",
    "        self.name=name\n",
    "        self.age=age\n",
    "        self.city=city\n",
    "\n",
    "    def introduce(self):\n",
    "        print(f\"My name is {self.name}\")\n",
    "\n",
    "my_name = person(\"Eesha\",19,\"Lahore\")\n",
    "print(my_name.name)\n",
    "print(my_name.age)\n",
    "print(my_name.city)\n",
    "my_name.introduce()"
   ]
  },
  {
   "cell_type": "markdown",
   "id": "acf9442c-8f1d-4c44-9299-22865abdbbd7",
   "metadata": {},
   "source": [
    "# Create a class Car with attributes make, model, and year."
   ]
  },
  {
   "cell_type": "code",
   "execution_count": 17,
   "id": "f45ea4fc-d6a7-4d0f-ac28-e981d2cb9f36",
   "metadata": {},
   "outputs": [
    {
     "name": "stdout",
     "output_type": "stream",
     "text": [
      "Audi\n",
      "A4\n",
      "2024\n",
      "This car is of Audi\n"
     ]
    }
   ],
   "source": [
    "class Car:\n",
    "    def __init__(self,make,model,year):\n",
    "        self.make=make\n",
    "        self.model=model\n",
    "        self.year=year\n",
    "\n",
    "    def brand(self):\n",
    "        print(f\"This car is of {self.make}\")\n",
    "\n",
    "my_car = Car(\"Audi\",\"A4\",2024)\n",
    "print(my_car.make)\n",
    "print(my_car.model)\n",
    "print(my_car.year)\n",
    "my_car.brand()"
   ]
  },
  {
   "cell_type": "markdown",
   "id": "3dcf96d2-d1fa-4a52-8835-45594f6a5c48",
   "metadata": {},
   "source": [
    "# Create a class Circle with attributes radius and methods to calculate area and circumference."
   ]
  },
  {
   "cell_type": "code",
   "execution_count": 24,
   "id": "8aa9903e-dc56-4b0c-8a04-24d1bec1ac85",
   "metadata": {},
   "outputs": [
    {
     "name": "stdout",
     "output_type": "stream",
     "text": [
      "Area: 78.53981633974483\n",
      "Circumference: 31.41592653589793\n"
     ]
    }
   ],
   "source": [
    "import math\n",
    "\n",
    "class Circle:\n",
    "    def __init__(self, radius):\n",
    "        self.radius = radius  \n",
    "\n",
    "    def area(self):\n",
    "        return math.pi * self.radius ** 2  \n",
    "\n",
    "    def circumference(self):\n",
    "        return 2 * math.pi * self.radius  \n",
    "\n",
    "\n",
    "circle = Circle(5)  \n",
    "print(\"Area:\", circle.area())  \n",
    "print(\"Circumference:\", circle.circumference())  "
   ]
  },
  {
   "cell_type": "markdown",
   "id": "3887b545-7fba-4531-a7b4-b52edbd09b7c",
   "metadata": {},
   "source": [
    "# Create a class Rectangle with attributes length and width and methods to calculate area and perimeter."
   ]
  },
  {
   "cell_type": "code",
   "execution_count": 22,
   "id": "e75e4826-598e-4284-8c81-7ab77d366f60",
   "metadata": {},
   "outputs": [
    {
     "name": "stdout",
     "output_type": "stream",
     "text": [
      "Area: 8\n",
      "Perimeter: 22\n"
     ]
    }
   ],
   "source": [
    "import math\n",
    "\n",
    "class Rectangle:\n",
    "    def __init__(self, length, width):\n",
    "        self.length = length\n",
    "        self.width = width\n",
    "\n",
    "    def area(self):\n",
    "        return self.length*2  \n",
    "\n",
    "    def perimeter(self):\n",
    "        return 2 * (self.length+self.width)   \n",
    "\n",
    "\n",
    "rectangle = Rectangle(4,7)  \n",
    "print(\"Area:\", rectangle.area())  \n",
    "print(\"Perimeter:\", rectangle.perimeter())  "
   ]
  },
  {
   "cell_type": "markdown",
   "id": "500ee85e-1eac-4c85-aef7-90fc35886ad9",
   "metadata": {},
   "source": [
    "# Create a class Student with attributes name, roll_number, and marks. Implement a method to calculate the average marks."
   ]
  },
  {
   "cell_type": "code",
   "execution_count": 23,
   "id": "c4fad1d9-a9ee-4391-8245-747e3aa68d41",
   "metadata": {},
   "outputs": [
    {
     "name": "stdout",
     "output_type": "stream",
     "text": [
      "Name: Eesha\n",
      "Roll Number: 101\n",
      "Average Marks: 86.6\n"
     ]
    }
   ],
   "source": [
    "class Student:\n",
    "    def __init__(self, name, roll_number, marks):\n",
    "        self.name = name              \n",
    "        self.roll_number = roll_number  \n",
    "        self.marks = marks           \n",
    "\n",
    "    def average_marks(self):\n",
    "        return sum(self.marks) / len(self.marks)\n",
    "\n",
    "student = Student(\"Eesha\", 101, [85, 90, 78, 92, 88]) \n",
    "print(\"Name:\", student.name)  \n",
    "print(\"Roll Number:\", student.roll_number)  \n",
    "print(\"Average Marks:\", student.average_marks())  \n"
   ]
  },
  {
   "cell_type": "markdown",
   "id": "9d58c6d5-9b5a-40d0-bc67-99f116044797",
   "metadata": {},
   "source": [
    "# Create a class Book with attributes title, author, and publication_year."
   ]
  },
  {
   "cell_type": "code",
   "execution_count": 30,
   "id": "0f5702d6-b450-4c56-baf9-cee307e71437",
   "metadata": {},
   "outputs": [
    {
     "name": "stdout",
     "output_type": "stream",
     "text": [
      "'To Kill a Mockingbird' by Harper Lee, published in 1960\n"
     ]
    }
   ],
   "source": [
    "class Book:\n",
    "    def __init__(self, title, author, publication_year):\n",
    "        self.title = title              \n",
    "        self.author = author           \n",
    "        self.publication_year = publication_year  \n",
    "    def __str__(self):\n",
    "        return f\"'{self.title}' by {self.author}, published in {self.publication_year}\"\n",
    "book = Book(\"To Kill a Mockingbird\", \"Harper Lee\", 1960)\n",
    "print(book) "
   ]
  },
  {
   "cell_type": "markdown",
   "id": "5433c012-56d4-4ed5-8aad-2cde72882dba",
   "metadata": {},
   "source": [
    "# Create a class Employee with attributes name, salary, and designation."
   ]
  },
  {
   "cell_type": "code",
   "execution_count": 31,
   "id": "d8fdde96-6e80-45a5-8a64-9fe4f34015b7",
   "metadata": {},
   "outputs": [
    {
     "name": "stdout",
     "output_type": "stream",
     "text": [
      "Employee: John Doe, Designation: Software Engineer, Salary: $55000\n"
     ]
    }
   ],
   "source": [
    "class Employee:\n",
    "    def __init__(self, name, salary, designation):\n",
    "        self.name = name                \n",
    "        self.salary = salary            \n",
    "        self.designation = designation  \n",
    "    def __str__(self):\n",
    "        return f\"Employee: {self.name}, Designation: {self.designation}, Salary: ${self.salary}\"\n",
    "employee = Employee(\"John Doe\", 55000, \"Software Engineer\")\n",
    "print(employee)"
   ]
  },
  {
   "cell_type": "markdown",
   "id": "8dfe52d1-b595-4463-bfdd-bfecaf910d3e",
   "metadata": {},
   "source": [
    "# Create a class Bank with attributes name, account_number, and balance. Implement methods to deposit and withdraw money."
   ]
  },
  {
   "cell_type": "code",
   "execution_count": 32,
   "id": "b3f60f97-cd67-4698-a114-478ecea8a21d",
   "metadata": {},
   "outputs": [
    {
     "name": "stdout",
     "output_type": "stream",
     "text": [
      "Current balance: $500\n",
      "Deposited $200. New balance is $700.\n",
      "Withdrew $100. New balance is $600.\n",
      "Insufficient balance for withdrawal.\n"
     ]
    }
   ],
   "source": [
    "class Bank:\n",
    "    def __init__(self, name, account_number, balance=0):\n",
    "        self.name = name                   \n",
    "        self.account_number = account_number  \n",
    "        self.balance = balance             \n",
    "    def deposit(self, amount):\n",
    "        if amount > 0:\n",
    "            self.balance += amount \n",
    "            print(f\"Deposited ${amount}. New balance is ${self.balance}.\")\n",
    "        else:\n",
    "            print(\"Deposit amount must be positive.\")\n",
    "    def withdraw(self, amount):\n",
    "        if amount > 0 and amount <= self.balance:\n",
    "            self.balance -= amount \n",
    "            print(f\"Withdrew ${amount}. New balance is ${self.balance}.\")\n",
    "        elif amount > self.balance:\n",
    "            print(\"Insufficient balance for withdrawal.\")\n",
    "        else:\n",
    "            print(\"Withdrawal amount must be positive.\")\n",
    "    def get_balance(self):\n",
    "        return f\"Current balance: ${self.balance}\"\n",
    "account = Bank(\"Alice\", \"12345678\", 500)  \n",
    "print(account.get_balance())  \n",
    "account.deposit(200) \n",
    "account.withdraw(100) \n",
    "account.withdraw(700) "
   ]
  },
  {
   "cell_type": "markdown",
   "id": "e41c00e0-0c45-472d-a283-43a5be52b976",
   "metadata": {},
   "source": [
    "# Create a class Shape with a method to calculate area. Create subclasses Circle, Rectangle, and Triangle that inherit from Shape and implement their specific area calculations."
   ]
  },
  {
   "cell_type": "code",
   "execution_count": 28,
   "id": "95ffde6f-d935-4368-9162-e832d3aa2d86",
   "metadata": {},
   "outputs": [
    {
     "name": "stdout",
     "output_type": "stream",
     "text": [
      "Circle Area: 78.53981633974483\n",
      "Rectangle Area: 28\n",
      "Triangle Area: 24.0\n"
     ]
    }
   ],
   "source": [
    "import math\n",
    "class Shape:\n",
    "    def area(self):\n",
    "        raise NotImplementedError(\"Subclasses must implement this method\")\n",
    "class Circle(Shape):\n",
    "    def __init__(self, radius):\n",
    "        self.radius = radius\n",
    "    def area(self):\n",
    "        return math.pi * self.radius ** 2  \n",
    "class Rectangle(Shape):\n",
    "    def __init__(self, length, width):\n",
    "        self.length = length\n",
    "        self.width = width\n",
    "    def area(self):\n",
    "        return self.length * self.width \n",
    "class Triangle(Shape):\n",
    "    def __init__(self, base, height):\n",
    "        self.base = base\n",
    "        self.height = height\n",
    "    def area(self):\n",
    "        return 0.5 * self.base * self.height  \n",
    "circle = Circle(5)\n",
    "rectangle = Rectangle(4, 7)\n",
    "triangle = Triangle(6, 8)\n",
    "print(\"Circle Area:\", circle.area())        \n",
    "print(\"Rectangle Area:\", rectangle.area()) \n",
    "print(\"Triangle Area:\", triangle.area())  "
   ]
  },
  {
   "cell_type": "markdown",
   "id": "c0a84563-d72c-4498-bd5d-5c38184b5962",
   "metadata": {},
   "source": [
    "#  Create a class Animal with attributes name and sound. Create subclasses Dog, Cat, and Cow that inherit from Animal and implement their specific sounds.s"
   ]
  },
  {
   "cell_type": "code",
   "execution_count": 33,
   "id": "4bca4c47-d58c-4b70-be0a-75cfe88251d0",
   "metadata": {},
   "outputs": [
    {
     "name": "stdout",
     "output_type": "stream",
     "text": [
      "Buddy says: Woof\n",
      "Whiskers says: Meow\n",
      "Daisy says: Moo\n"
     ]
    }
   ],
   "source": [
    "class Animal:\n",
    "    def __init__(self, name, sound):\n",
    "        self.name = name \n",
    "        self.sound = sound\n",
    "    def make_sound(self):\n",
    "        return f\"{self.name} says: {self.sound}\"\n",
    "class Dog(Animal):\n",
    "    def __init__(self, name):\n",
    "        super().__init__(name, \"Woof\")\n",
    "class Cat(Animal):\n",
    "    def __init__(self, name):\n",
    "        super().__init__(name, \"Meow\")\n",
    "class Cow(Animal):\n",
    "    def __init__(self, name):\n",
    "        super().__init__(name, \"Moo\")\n",
    "dog = Dog(\"Buddy\")\n",
    "cat = Cat(\"Whiskers\")\n",
    "cow = Cow(\"Daisy\")\n",
    "print(dog.make_sound())  \n",
    "print(cat.make_sound()) \n",
    "print(cow.make_sound())\n"
   ]
  },
  {
   "cell_type": "code",
   "execution_count": null,
   "id": "75279c02-a37b-40af-a9c2-840bd426e6f6",
   "metadata": {},
   "outputs": [],
   "source": []
  }
 ],
 "metadata": {
  "kernelspec": {
   "display_name": "Python 3 (ipykernel)",
   "language": "python",
   "name": "python3"
  },
  "language_info": {
   "codemirror_mode": {
    "name": "ipython",
    "version": 3
   },
   "file_extension": ".py",
   "mimetype": "text/x-python",
   "name": "python",
   "nbconvert_exporter": "python",
   "pygments_lexer": "ipython3",
   "version": "3.12.4"
  }
 },
 "nbformat": 4,
 "nbformat_minor": 5
}
